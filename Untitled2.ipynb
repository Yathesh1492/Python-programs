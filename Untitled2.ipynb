{
 "cells": [
  {
   "cell_type": "code",
   "execution_count": 19,
   "id": "2bee6441",
   "metadata": {},
   "outputs": [
    {
     "name": "stdout",
     "output_type": "stream",
     "text": [
      "cos(x)\n"
     ]
    }
   ],
   "source": [
    "import sympy as sym\n",
    "a=sym.diff(sym.sin(x),x)\n",
    "print(a)"
   ]
  },
  {
   "cell_type": "code",
   "execution_count": 20,
   "id": "dfbbffcd",
   "metadata": {},
   "outputs": [
    {
     "data": {
      "text/latex": [
       "$\\displaystyle \\frac{x^{3}}{3}$"
      ],
      "text/plain": [
       "x**3/3"
      ]
     },
     "execution_count": 20,
     "metadata": {},
     "output_type": "execute_result"
    }
   ],
   "source": [
    "sym.integrate(x**2,x)"
   ]
  },
  {
   "cell_type": "code",
   "execution_count": 12,
   "id": "5d342001",
   "metadata": {},
   "outputs": [
    {
     "data": {
      "text/latex": [
       "$\\displaystyle 1$"
      ],
      "text/plain": [
       "1"
      ]
     },
     "execution_count": 12,
     "metadata": {},
     "output_type": "execute_result"
    }
   ],
   "source": [
    "sym.limit(sym.sin(x)/x,x,0)"
   ]
  },
  {
   "cell_type": "code",
   "execution_count": 11,
   "id": "b6a6965c",
   "metadata": {},
   "outputs": [
    {
     "data": {
      "text/latex": [
       "$\\displaystyle \\frac{\\tan{\\left(x \\right)}}{- \\tan{\\left(x \\right)} \\tan{\\left(y \\right)} + 1} + \\frac{\\tan{\\left(y \\right)}}{- \\tan{\\left(x \\right)} \\tan{\\left(y \\right)} + 1}$"
      ],
      "text/plain": [
       "tan(x)/(-tan(x)*tan(y) + 1) + tan(y)/(-tan(x)*tan(y) + 1)"
      ]
     },
     "execution_count": 11,
     "metadata": {},
     "output_type": "execute_result"
    }
   ],
   "source": [
    "sym.expand(sym.tan(x+y),trig=True)"
   ]
  },
  {
   "cell_type": "code",
   "execution_count": 24,
   "id": "f6dcca2e",
   "metadata": {},
   "outputs": [
    {
     "data": {
      "text/latex": [
       "$\\displaystyle \\tan{\\left(x \\right)}$"
      ],
      "text/plain": [
       "tan(x)"
      ]
     },
     "execution_count": 24,
     "metadata": {},
     "output_type": "execute_result"
    }
   ],
   "source": [
    "import sympy as sym\n",
    "a=sym.sin(x)\n",
    "b=sym.cos(x)\n",
    "sym.simplify(a/b)"
   ]
  },
  {
   "cell_type": "code",
   "execution_count": 7,
   "id": "f5b426d7",
   "metadata": {},
   "outputs": [
    {
     "name": "stdout",
     "output_type": "stream",
     "text": [
      "x**3/3 + sinh(x)\n"
     ]
    }
   ],
   "source": [
    "import sympy as sym\n",
    "x=sym.Symbol('x')\n",
    "a=sym.integrate(x**2+sym.cosh(x),x)\n",
    "print(a)"
   ]
  },
  {
   "cell_type": "code",
   "execution_count": 8,
   "id": "dcc3df66",
   "metadata": {},
   "outputs": [
    {
     "data": {
      "text/latex": [
       "$\\displaystyle - 4 \\sin{\\left(2 x \\right)}$"
      ],
      "text/plain": [
       "-4*sin(2*x)"
      ]
     },
     "execution_count": 8,
     "metadata": {},
     "output_type": "execute_result"
    }
   ],
   "source": [
    "sym.diff(sym.sin(2*x),x,2)"
   ]
  },
  {
   "cell_type": "code",
   "execution_count": 12,
   "id": "dffddee1",
   "metadata": {},
   "outputs": [
    {
     "name": "stdout",
     "output_type": "stream",
     "text": [
      "[1, 4, 9, 16, 25]\n",
      "[1, 27, 125, 512]\n"
     ]
    }
   ],
   "source": [
    "def square(n):\n",
    "    return list(map(lambda x: x*x,n))\n",
    "def cube(n):\n",
    "    return list(map(lambda x: x*x*x,n))\n",
    "print(square([1,2,3,4,5]))\n",
    "print(cube([1,3,5,8]))"
   ]
  },
  {
   "cell_type": "code",
   "execution_count": 13,
   "id": "3c3f383d",
   "metadata": {},
   "outputs": [
    {
     "name": "stdout",
     "output_type": "stream",
     "text": [
      "16\n",
      "11\n"
     ]
    }
   ],
   "source": [
    "def sum(n):\n",
    "    if (n>0):\n",
    "        return n+sum(n-1)\n",
    "    else:\n",
    "        return 1\n",
    "print(sum(5))\n",
    "print(sum(4))"
   ]
  },
  {
   "cell_type": "code",
   "execution_count": 14,
   "id": "bd727809",
   "metadata": {},
   "outputs": [
    {
     "name": "stdout",
     "output_type": "stream",
     "text": [
      "The filtered letters are:\n",
      "e\n",
      "e\n"
     ]
    }
   ],
   "source": [
    "def fun(variable):\n",
    "    letters=['a','e','i','o','u']\n",
    "    if(variable in letters):\n",
    "        return True\n",
    "    else:\n",
    "        return False\n",
    "sequence=['g','e','e']\n",
    "filtered=filter(fun,sequence)\n",
    "print(\"The filtered letters are:\")\n",
    "for s in filtered:\n",
    "    print(s)"
   ]
  },
  {
   "cell_type": "code",
   "execution_count": 15,
   "id": "9eff036a",
   "metadata": {},
   "outputs": [
    {
     "name": "stdout",
     "output_type": "stream",
     "text": [
      "[]\n"
     ]
    }
   ],
   "source": [
    "from functools import reduce \n",
    "def agecalc(a,b):\n",
    "    return a+b\n",
    "age=map(agecalc,[1,2,3,6,9,44,8,4],[4,5,6,5,6,75,4,5])\n",
    "adults=filter(lambda x:x>18,age)\n",
    "finalAge = reduce(lambda x: x, adults)\n",
    "print(list(adults))"
   ]
  }
 ],
 "metadata": {
  "kernelspec": {
   "display_name": "Python 3 (ipykernel)",
   "language": "python",
   "name": "python3"
  },
  "language_info": {
   "codemirror_mode": {
    "name": "ipython",
    "version": 3
   },
   "file_extension": ".py",
   "mimetype": "text/x-python",
   "name": "python",
   "nbconvert_exporter": "python",
   "pygments_lexer": "ipython3",
   "version": "3.9.12"
  }
 },
 "nbformat": 4,
 "nbformat_minor": 5
}
