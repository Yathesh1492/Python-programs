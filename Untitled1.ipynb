{
 "cells": [
  {
   "cell_type": "code",
   "execution_count": 2,
   "id": "7a4f75bf",
   "metadata": {},
   "outputs": [
    {
     "name": "stdout",
     "output_type": "stream",
     "text": [
      "x**2 + 2*x*y + y**2\n"
     ]
    }
   ],
   "source": [
    "import sympy as sym\n",
    "x=sym.Symbol('x')\n",
    "y=sym.Symbol('y')\n",
    "a=sym.expand((x+y)**2)\n",
    "print(a)"
   ]
  },
  {
   "cell_type": "code",
   "execution_count": 18,
   "id": "6d2b2aa6",
   "metadata": {},
   "outputs": [
    {
     "name": "stdout",
     "output_type": "stream",
     "text": [
      "4/3\n"
     ]
    }
   ],
   "source": [
    "import sympy as sym\n",
    "x=sym.Rational(1,2)\n",
    "y=sym.Rational(1,3)\n",
    "z=sym.Rational(1,2)\n",
    "a=sym.simplify(x+y+z)\n",
    "print(a)"
   ]
  },
  {
   "cell_type": "code",
   "execution_count": 11,
   "id": "f9a45a34",
   "metadata": {},
   "outputs": [
    {
     "name": "stdout",
     "output_type": "stream",
     "text": [
      "tan(x)/(-tan(x)*tan(y) + 1) + tan(y)/(-tan(x)*tan(y) + 1)\n"
     ]
    }
   ],
   "source": [
    "import sympy as sym\n",
    "x=sym.Symbol('x')\n",
    "y=sym.Symbol('y')\n",
    "a=sym.expand(sym.tan(x+y),trig=True)\n",
    "print(a)"
   ]
  },
  {
   "cell_type": "code",
   "execution_count": 17,
   "id": "63f4e3a4",
   "metadata": {},
   "outputs": [
    {
     "data": {
      "text/latex": [
       "$\\displaystyle \\infty$"
      ],
      "text/plain": [
       "oo"
      ]
     },
     "execution_count": 17,
     "metadata": {},
     "output_type": "execute_result"
    }
   ],
   "source": [
    "sym.limit(sym.cos(x)/x,x,0)"
   ]
  },
  {
   "cell_type": "code",
   "execution_count": 21,
   "id": "e24f7206",
   "metadata": {},
   "outputs": [
    {
     "data": {
      "text/latex": [
       "$\\displaystyle x^{6}$"
      ],
      "text/plain": [
       "x**6"
      ]
     },
     "execution_count": 21,
     "metadata": {},
     "output_type": "execute_result"
    }
   ],
   "source": [
    "import sympy as sym\n",
    "x=sym.Symbol('x')\n",
    "sym.diff(sym.sin(2*x),x,2)"
   ]
  },
  {
   "cell_type": "code",
   "execution_count": 22,
   "id": "3d2aa501",
   "metadata": {},
   "outputs": [
    {
     "data": {
      "text/latex": [
       "$\\displaystyle 30 x^{5}$"
      ],
      "text/plain": [
       "30*x**5"
      ]
     },
     "execution_count": 22,
     "metadata": {},
     "output_type": "execute_result"
    }
   ],
   "source": [
    "sym.diff(5*x**6,x)"
   ]
  },
  {
   "cell_type": "code",
   "execution_count": 23,
   "id": "1fedba36",
   "metadata": {},
   "outputs": [
    {
     "data": {
      "text/latex": [
       "$\\displaystyle 1 - \\frac{x^{2}}{2} + \\frac{x^{4}}{24} + O\\left(x^{6}\\right)$"
      ],
      "text/plain": [
       "1 - x**2/2 + x**4/24 + O(x**6)"
      ]
     },
     "execution_count": 23,
     "metadata": {},
     "output_type": "execute_result"
    }
   ],
   "source": [
    "sym.series(sym.cos(x),x)"
   ]
  },
  {
   "cell_type": "code",
   "execution_count": null,
   "id": "45645e08",
   "metadata": {},
   "outputs": [],
   "source": []
  }
 ],
 "metadata": {
  "kernelspec": {
   "display_name": "Python 3 (ipykernel)",
   "language": "python",
   "name": "python3"
  },
  "language_info": {
   "codemirror_mode": {
    "name": "ipython",
    "version": 3
   },
   "file_extension": ".py",
   "mimetype": "text/x-python",
   "name": "python",
   "nbconvert_exporter": "python",
   "pygments_lexer": "ipython3",
   "version": "3.9.12"
  }
 },
 "nbformat": 4,
 "nbformat_minor": 5
}
